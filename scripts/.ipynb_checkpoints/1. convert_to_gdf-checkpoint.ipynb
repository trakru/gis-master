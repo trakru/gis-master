{
 "cells": [
  {
   "cell_type": "code",
   "execution_count": 1,
   "metadata": {
    "collapsed": true
   },
   "outputs": [],
   "source": [
    "import geopandas\n",
    "import pandas as pd\n",
    "import glob\n",
    "import os\n",
    "from pathlib import Path"
   ]
  },
  {
   "cell_type": "code",
   "execution_count": 2,
   "metadata": {
    "pycharm": {
     "name": "#%%\n"
    }
   },
   "outputs": [],
   "source": [
    "os.chdir(Path().resolve().parents[0])"
   ]
  },
  {
   "cell_type": "code",
   "execution_count": 3,
   "metadata": {
    "pycharm": {
     "name": "#%%\n"
    }
   },
   "outputs": [
    {
     "data": {
      "text/plain": [
       "[WindowsPath('data/staging/Home_Hotspots_2.csv'),\n",
       " WindowsPath('data/staging/Outdoor_2.csv'),\n",
       " WindowsPath('data/staging/SMB_2.csv')]"
      ]
     },
     "execution_count": 3,
     "metadata": {},
     "output_type": "execute_result"
    }
   ],
   "source": [
    "staging_dir = Path('./data/staging/')\n",
    "allFileNames = [file for file in staging_dir.glob('*.csv')]\n",
    "allFileNames"
   ]
  },
  {
   "cell_type": "code",
   "execution_count": 4,
   "metadata": {
    "pycharm": {
     "name": "#%%\n"
    }
   },
   "outputs": [],
   "source": [
    "df1 = pd.read_csv(allFileNames[0])\n",
    "df2 = pd.read_csv(allFileNames[1])\n",
    "df3 = pd.read_csv(allFileNames[2])"
   ]
  },
  {
   "cell_type": "code",
   "execution_count": 5,
   "metadata": {
    "pycharm": {
     "name": "#%%\n"
    }
   },
   "outputs": [],
   "source": [
    "df1['type'] = 'home_hotspot'\n",
    "df2['type'] = 'outdoor'\n",
    "df3['type'] = 'smb'"
   ]
  },
  {
   "cell_type": "code",
   "execution_count": null,
   "metadata": {
    "pycharm": {
     "name": "#%%\n"
    }
   },
   "outputs": [],
   "source": [
    "# df1.columns\n",
    "# df2.columns\n",
    "# df3.columns"
   ]
  },
  {
   "cell_type": "code",
   "execution_count": 6,
   "metadata": {
    "pycharm": {
     "name": "#%%\n"
    }
   },
   "outputs": [],
   "source": [
    "df1.rename(columns={'AP Mac':'apMAC', 'Zip_Code':'Zipcode'}, inplace=True)\n",
    "df2.rename(columns={'AP Mac':'apMAC', 'Zip Code':'Zipcode', 'Site ID':'SiteID', 'Street 2':'Street2'}, inplace=True)\n",
    "df3.rename(columns={'AP Mac':'apMAC', 'Zip Code':'Zipcode'}, inplace=True)"
   ]
  },
  {
   "cell_type": "code",
   "execution_count": 7,
   "metadata": {
    "pycharm": {
     "name": "#%%\n"
    }
   },
   "outputs": [],
   "source": [
    "df =  pd.concat([df1, df2, df3])\n",
    "\n"
   ]
  },
  {
   "cell_type": "code",
   "execution_count": 8,
   "metadata": {
    "pycharm": {
     "name": "#%%\n"
    }
   },
   "outputs": [],
   "source": [
    "gdf = geopandas.GeoDataFrame(\n",
    "    df, geometry=geopandas.points_from_xy(df.Longitude, df.Latitude))\n",
    "\n"
   ]
  },
  {
   "cell_type": "code",
   "execution_count": 9,
   "metadata": {
    "pycharm": {
     "name": "#%%\n"
    }
   },
   "outputs": [
    {
     "data": {
      "text/html": [
       "<div>\n",
       "<style scoped>\n",
       "    .dataframe tbody tr th:only-of-type {\n",
       "        vertical-align: middle;\n",
       "    }\n",
       "\n",
       "    .dataframe tbody tr th {\n",
       "        vertical-align: top;\n",
       "    }\n",
       "\n",
       "    .dataframe thead th {\n",
       "        text-align: right;\n",
       "    }\n",
       "</style>\n",
       "<table border=\"1\" class=\"dataframe\">\n",
       "  <thead>\n",
       "    <tr style=\"text-align: right;\">\n",
       "      <th></th>\n",
       "      <th>apMAC</th>\n",
       "      <th>Model</th>\n",
       "      <th>Street</th>\n",
       "      <th>Street2</th>\n",
       "      <th>City</th>\n",
       "      <th>State</th>\n",
       "      <th>Zipcode</th>\n",
       "      <th>Latitude</th>\n",
       "      <th>Longitude</th>\n",
       "      <th>Region</th>\n",
       "      <th>Zone</th>\n",
       "      <th>Zone Type</th>\n",
       "      <th>SiteID</th>\n",
       "      <th>type</th>\n",
       "      <th>geometry</th>\n",
       "    </tr>\n",
       "  </thead>\n",
       "  <tbody>\n",
       "    <tr>\n",
       "      <th>0</th>\n",
       "      <td>3C:7A:8A:84:1E:FC</td>\n",
       "      <td>NaN</td>\n",
       "      <td>1305 KATER ST</td>\n",
       "      <td>NaN</td>\n",
       "      <td>PHILADELPHIA</td>\n",
       "      <td>PA</td>\n",
       "      <td>19147</td>\n",
       "      <td>39.943095</td>\n",
       "      <td>-75.163699</td>\n",
       "      <td>Freedom</td>\n",
       "      <td>South St Zone 1</td>\n",
       "      <td>Secondary</td>\n",
       "      <td>NaN</td>\n",
       "      <td>home_hotspot</td>\n",
       "      <td>POINT (-75.16370 39.94309)</td>\n",
       "    </tr>\n",
       "    <tr>\n",
       "      <th>1</th>\n",
       "      <td>5C:8F:E0:B1:18:02</td>\n",
       "      <td>NaN</td>\n",
       "      <td>1110 N HOPE ST</td>\n",
       "      <td>NaN</td>\n",
       "      <td>PHILADELPHIA</td>\n",
       "      <td>PA</td>\n",
       "      <td>19123</td>\n",
       "      <td>39.967898</td>\n",
       "      <td>-75.137222</td>\n",
       "      <td>Freedom</td>\n",
       "      <td>Fishtown</td>\n",
       "      <td>Secondary</td>\n",
       "      <td>NaN</td>\n",
       "      <td>home_hotspot</td>\n",
       "      <td>POINT (-75.13722 39.96790)</td>\n",
       "    </tr>\n",
       "    <tr>\n",
       "      <th>2</th>\n",
       "      <td>00:1D:D5:BC:E9:74</td>\n",
       "      <td>NaN</td>\n",
       "      <td>631 S 9TH ST</td>\n",
       "      <td>NaN</td>\n",
       "      <td>PHILADELPHIA</td>\n",
       "      <td>PA</td>\n",
       "      <td>19147</td>\n",
       "      <td>39.941791</td>\n",
       "      <td>-75.157001</td>\n",
       "      <td>Freedom</td>\n",
       "      <td>South St Zone 1</td>\n",
       "      <td>Secondary</td>\n",
       "      <td>NaN</td>\n",
       "      <td>home_hotspot</td>\n",
       "      <td>POINT (-75.15700 39.94179)</td>\n",
       "    </tr>\n",
       "    <tr>\n",
       "      <th>3</th>\n",
       "      <td>9C:34:26:71:66:D8</td>\n",
       "      <td>NaN</td>\n",
       "      <td>833 BAINBRIDGE ST</td>\n",
       "      <td>NaN</td>\n",
       "      <td>PHILADELPHIA</td>\n",
       "      <td>PA</td>\n",
       "      <td>19147</td>\n",
       "      <td>39.941846</td>\n",
       "      <td>-75.156767</td>\n",
       "      <td>Freedom</td>\n",
       "      <td>South St Zone 1</td>\n",
       "      <td>Secondary</td>\n",
       "      <td>NaN</td>\n",
       "      <td>home_hotspot</td>\n",
       "      <td>POINT (-75.15677 39.94185)</td>\n",
       "    </tr>\n",
       "    <tr>\n",
       "      <th>4</th>\n",
       "      <td>78:23:AE:F2:47:77</td>\n",
       "      <td>NaN</td>\n",
       "      <td>1137 PINE ST</td>\n",
       "      <td>APT 103</td>\n",
       "      <td>PHILADELPHIA</td>\n",
       "      <td>PA</td>\n",
       "      <td>19107</td>\n",
       "      <td>39.945278</td>\n",
       "      <td>-75.160919</td>\n",
       "      <td>Freedom</td>\n",
       "      <td>South St Zone 1</td>\n",
       "      <td>Secondary</td>\n",
       "      <td>NaN</td>\n",
       "      <td>home_hotspot</td>\n",
       "      <td>POINT (-75.16092 39.94528)</td>\n",
       "    </tr>\n",
       "  </tbody>\n",
       "</table>\n",
       "</div>"
      ],
      "text/plain": [
       "               apMAC Model             Street  Street2          City State  \\\n",
       "0  3C:7A:8A:84:1E:FC   NaN      1305 KATER ST      NaN  PHILADELPHIA    PA   \n",
       "1  5C:8F:E0:B1:18:02   NaN     1110 N HOPE ST      NaN  PHILADELPHIA    PA   \n",
       "2  00:1D:D5:BC:E9:74   NaN       631 S 9TH ST      NaN  PHILADELPHIA    PA   \n",
       "3  9C:34:26:71:66:D8   NaN  833 BAINBRIDGE ST      NaN  PHILADELPHIA    PA   \n",
       "4  78:23:AE:F2:47:77   NaN       1137 PINE ST  APT 103  PHILADELPHIA    PA   \n",
       "\n",
       "   Zipcode   Latitude  Longitude   Region             Zone  Zone Type SiteID  \\\n",
       "0    19147  39.943095 -75.163699  Freedom  South St Zone 1  Secondary    NaN   \n",
       "1    19123  39.967898 -75.137222  Freedom         Fishtown  Secondary    NaN   \n",
       "2    19147  39.941791 -75.157001  Freedom  South St Zone 1  Secondary    NaN   \n",
       "3    19147  39.941846 -75.156767  Freedom  South St Zone 1  Secondary    NaN   \n",
       "4    19107  39.945278 -75.160919  Freedom  South St Zone 1  Secondary    NaN   \n",
       "\n",
       "           type                    geometry  \n",
       "0  home_hotspot  POINT (-75.16370 39.94309)  \n",
       "1  home_hotspot  POINT (-75.13722 39.96790)  \n",
       "2  home_hotspot  POINT (-75.15700 39.94179)  \n",
       "3  home_hotspot  POINT (-75.15677 39.94185)  \n",
       "4  home_hotspot  POINT (-75.16092 39.94528)  "
      ]
     },
     "execution_count": 9,
     "metadata": {},
     "output_type": "execute_result"
    }
   ],
   "source": [
    "gdf.head()"
   ]
  },
  {
   "cell_type": "code",
   "execution_count": 10,
   "metadata": {
    "pycharm": {
     "name": "#%%\n"
    }
   },
   "outputs": [],
   "source": [
    "gdf.to_csv('./data/final/gis-master.csv', encoding='utf-8')\n"
   ]
  }
 ],
 "metadata": {
  "kernelspec": {
   "display_name": "Python 3",
   "language": "python",
   "name": "python3"
  },
  "language_info": {
   "codemirror_mode": {
    "name": "ipython",
    "version": 3
   },
   "file_extension": ".py",
   "mimetype": "text/x-python",
   "name": "python",
   "nbconvert_exporter": "python",
   "pygments_lexer": "ipython3",
   "version": "3.6.10"
  }
 },
 "nbformat": 4,
 "nbformat_minor": 1
}
