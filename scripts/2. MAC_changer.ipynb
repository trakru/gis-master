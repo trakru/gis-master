{
 "cells": [
  {
   "cell_type": "code",
   "execution_count": 1,
   "metadata": {},
   "outputs": [],
   "source": [
    "import pandas as pd\n",
    "import os\n",
    "from pathlib import Path"
   ]
  },
  {
   "cell_type": "code",
   "execution_count": 6,
   "metadata": {},
   "outputs": [],
   "source": [
    "os.chdir(Path().resolve().parents[0])"
   ]
  },
  {
   "cell_type": "code",
   "execution_count": 8,
   "metadata": {},
   "outputs": [],
   "source": [
    "df = pd.read_csv('./data/final/gis-master.csv')"
   ]
  },
  {
   "cell_type": "code",
   "execution_count": 7,
   "metadata": {},
   "outputs": [],
   "source": [
    "df = pd.read_csv('C:/Users/thetr/Documents/snmp.csv')"
   ]
  },
  {
   "cell_type": "code",
   "execution_count": 8,
   "metadata": {},
   "outputs": [
    {
     "data": {
      "text/html": [
       "<div>\n",
       "<style scoped>\n",
       "    .dataframe tbody tr th:only-of-type {\n",
       "        vertical-align: middle;\n",
       "    }\n",
       "\n",
       "    .dataframe tbody tr th {\n",
       "        vertical-align: top;\n",
       "    }\n",
       "\n",
       "    .dataframe thead th {\n",
       "        text-align: right;\n",
       "    }\n",
       "</style>\n",
       "<table border=\"1\" class=\"dataframe\">\n",
       "  <thead>\n",
       "    <tr style=\"text-align: right;\">\n",
       "      <th></th>\n",
       "      <th>SNMP</th>\n",
       "    </tr>\n",
       "  </thead>\n",
       "  <tbody>\n",
       "    <tr>\n",
       "      <th>0</th>\n",
       "      <td>74:EA:E8:F2:C9:25</td>\n",
       "    </tr>\n",
       "    <tr>\n",
       "      <th>1</th>\n",
       "      <td>74:EA:E8:F2:CB:AD</td>\n",
       "    </tr>\n",
       "    <tr>\n",
       "      <th>2</th>\n",
       "      <td>74:EA:E8:F2:CD:4D</td>\n",
       "    </tr>\n",
       "    <tr>\n",
       "      <th>3</th>\n",
       "      <td>74:EA:E8:F2:CD:5D</td>\n",
       "    </tr>\n",
       "    <tr>\n",
       "      <th>4</th>\n",
       "      <td>74:EA:E8:F2:CD:61</td>\n",
       "    </tr>\n",
       "  </tbody>\n",
       "</table>\n",
       "</div>"
      ],
      "text/plain": [
       "                SNMP\n",
       "0  74:EA:E8:F2:C9:25\n",
       "1  74:EA:E8:F2:CB:AD\n",
       "2  74:EA:E8:F2:CD:4D\n",
       "3  74:EA:E8:F2:CD:5D\n",
       "4  74:EA:E8:F2:CD:61"
      ]
     },
     "execution_count": 8,
     "metadata": {},
     "output_type": "execute_result"
    }
   ],
   "source": [
    "df.head()\n"
   ]
  },
  {
   "cell_type": "code",
   "execution_count": 11,
   "metadata": {},
   "outputs": [],
   "source": [
    "# grab last 2 digits and decrease 1 to match with snmp table\n",
    "df['last_digit'] = df['SNMP'].apply(lambda x: int(x[15:17], 16) +1) \n",
    "# access the last two digits and convert to hex\n",
    "df['last_hex'] = df['last_digit'].apply(lambda x: hex(x)[2:].upper())\n",
    "# create new mac with +1 attributes\n",
    "df['snmpReportedMac'] = df['SNMP'].apply(lambda x: x[:15]) + df['last_hex']\n",
    "# drop temp columns\n",
    "df = df.drop(['last_digit', 'last_hex'], axis=1)"
   ]
  },
  {
   "cell_type": "code",
   "execution_count": 12,
   "metadata": {},
   "outputs": [
    {
     "data": {
      "text/html": [
       "<div>\n",
       "<style scoped>\n",
       "    .dataframe tbody tr th:only-of-type {\n",
       "        vertical-align: middle;\n",
       "    }\n",
       "\n",
       "    .dataframe tbody tr th {\n",
       "        vertical-align: top;\n",
       "    }\n",
       "\n",
       "    .dataframe thead th {\n",
       "        text-align: right;\n",
       "    }\n",
       "</style>\n",
       "<table border=\"1\" class=\"dataframe\">\n",
       "  <thead>\n",
       "    <tr style=\"text-align: right;\">\n",
       "      <th></th>\n",
       "      <th>SNMP</th>\n",
       "      <th>snmpReportedMac</th>\n",
       "    </tr>\n",
       "  </thead>\n",
       "  <tbody>\n",
       "    <tr>\n",
       "      <th>0</th>\n",
       "      <td>74:EA:E8:F2:C9:25</td>\n",
       "      <td>74:EA:E8:F2:C9:26</td>\n",
       "    </tr>\n",
       "    <tr>\n",
       "      <th>1</th>\n",
       "      <td>74:EA:E8:F2:CB:AD</td>\n",
       "      <td>74:EA:E8:F2:CB:AE</td>\n",
       "    </tr>\n",
       "    <tr>\n",
       "      <th>2</th>\n",
       "      <td>74:EA:E8:F2:CD:4D</td>\n",
       "      <td>74:EA:E8:F2:CD:4E</td>\n",
       "    </tr>\n",
       "    <tr>\n",
       "      <th>3</th>\n",
       "      <td>74:EA:E8:F2:CD:5D</td>\n",
       "      <td>74:EA:E8:F2:CD:5E</td>\n",
       "    </tr>\n",
       "    <tr>\n",
       "      <th>4</th>\n",
       "      <td>74:EA:E8:F2:CD:61</td>\n",
       "      <td>74:EA:E8:F2:CD:62</td>\n",
       "    </tr>\n",
       "    <tr>\n",
       "      <th>...</th>\n",
       "      <td>...</td>\n",
       "      <td>...</td>\n",
       "    </tr>\n",
       "    <tr>\n",
       "      <th>111</th>\n",
       "      <td>F8:2D:C0:BF:96:65</td>\n",
       "      <td>F8:2D:C0:BF:96:66</td>\n",
       "    </tr>\n",
       "    <tr>\n",
       "      <th>112</th>\n",
       "      <td>F8:2D:C0:BF:96:69</td>\n",
       "      <td>F8:2D:C0:BF:96:6A</td>\n",
       "    </tr>\n",
       "    <tr>\n",
       "      <th>113</th>\n",
       "      <td>F8:2D:C0:BF:96:6D</td>\n",
       "      <td>F8:2D:C0:BF:96:6E</td>\n",
       "    </tr>\n",
       "    <tr>\n",
       "      <th>114</th>\n",
       "      <td>F8:2D:C0:BF:96:75</td>\n",
       "      <td>F8:2D:C0:BF:96:76</td>\n",
       "    </tr>\n",
       "    <tr>\n",
       "      <th>115</th>\n",
       "      <td>F8:2D:C0:BF:96:79</td>\n",
       "      <td>F8:2D:C0:BF:96:7A</td>\n",
       "    </tr>\n",
       "  </tbody>\n",
       "</table>\n",
       "<p>116 rows × 2 columns</p>\n",
       "</div>"
      ],
      "text/plain": [
       "                  SNMP    snmpReportedMac\n",
       "0    74:EA:E8:F2:C9:25  74:EA:E8:F2:C9:26\n",
       "1    74:EA:E8:F2:CB:AD  74:EA:E8:F2:CB:AE\n",
       "2    74:EA:E8:F2:CD:4D  74:EA:E8:F2:CD:4E\n",
       "3    74:EA:E8:F2:CD:5D  74:EA:E8:F2:CD:5E\n",
       "4    74:EA:E8:F2:CD:61  74:EA:E8:F2:CD:62\n",
       "..                 ...                ...\n",
       "111  F8:2D:C0:BF:96:65  F8:2D:C0:BF:96:66\n",
       "112  F8:2D:C0:BF:96:69  F8:2D:C0:BF:96:6A\n",
       "113  F8:2D:C0:BF:96:6D  F8:2D:C0:BF:96:6E\n",
       "114  F8:2D:C0:BF:96:75  F8:2D:C0:BF:96:76\n",
       "115  F8:2D:C0:BF:96:79  F8:2D:C0:BF:96:7A\n",
       "\n",
       "[116 rows x 2 columns]"
      ]
     },
     "execution_count": 12,
     "metadata": {},
     "output_type": "execute_result"
    }
   ],
   "source": [
    "df"
   ]
  },
  {
   "cell_type": "code",
   "execution_count": 16,
   "metadata": {},
   "outputs": [],
   "source": [
    "df.to_csv('./data/final/gis-master_snmpMAC_updated.csv', encoding='utf-8')"
   ]
  }
 ],
 "metadata": {
  "kernelspec": {
   "display_name": "Python 3",
   "language": "python",
   "name": "python3"
  },
  "language_info": {
   "codemirror_mode": {
    "name": "ipython",
    "version": 3
   },
   "file_extension": ".py",
   "mimetype": "text/x-python",
   "name": "python",
   "nbconvert_exporter": "python",
   "pygments_lexer": "ipython3",
   "version": "3.7.6"
  }
 },
 "nbformat": 4,
 "nbformat_minor": 4
}
